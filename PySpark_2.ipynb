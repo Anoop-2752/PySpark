{
  "nbformat": 4,
  "nbformat_minor": 0,
  "metadata": {
    "colab": {
      "provenance": [],
      "authorship_tag": "ABX9TyMUogE4woaLQzpsTehVoXUs",
      "include_colab_link": true
    },
    "kernelspec": {
      "name": "python3",
      "display_name": "Python 3"
    },
    "language_info": {
      "name": "python"
    }
  },
  "cells": [
    {
      "cell_type": "markdown",
      "metadata": {
        "id": "view-in-github",
        "colab_type": "text"
      },
      "source": [
        "<a href=\"https://colab.research.google.com/github/Anoop-2752/PySpark/blob/main/PySpark_2.ipynb\" target=\"_parent\"><img src=\"https://colab.research.google.com/assets/colab-badge.svg\" alt=\"Open In Colab\"/></a>"
      ]
    },
    {
      "cell_type": "markdown",
      "source": [
        "### PySpark Handling Missing Vaues\n",
        "\n",
        "- Dropping Columns\n",
        "- Dropping Rows\n",
        "- Various Parameters in Dropping Functionalities (any,how,thresh)\n",
        "- Handling Missing Values by Mean,Median,Mode\n",
        "\n",
        "### Filter Operations\n",
        "\n",
        "- filter opeations\n",
        "- &,==\n",
        "- <==, >==\n",
        "- ~ (inverse condition operation)"
      ],
      "metadata": {
        "id": "Qasy_uhDXPcU"
      }
    },
    {
      "cell_type": "code",
      "source": [
        "from pyspark.sql import SparkSession\n",
        "spark = SparkSession.builder.appName('Basics').getOrCreate()"
      ],
      "metadata": {
        "id": "U_PUIIa4RzgI"
      },
      "execution_count": 1,
      "outputs": []
    },
    {
      "cell_type": "code",
      "source": [
        "df_pyspark = spark.read.csv('Salary.csv',header=True,inferSchema=True)"
      ],
      "metadata": {
        "id": "V_C6GcWvSOJG"
      },
      "execution_count": 3,
      "outputs": []
    },
    {
      "cell_type": "code",
      "source": [
        "df_pyspark.show()"
      ],
      "metadata": {
        "colab": {
          "base_uri": "https://localhost:8080/"
        },
        "id": "nuoUEDjDSijt",
        "outputId": "80e67dcb-16d3-4399-e3d5-30973cb9990a"
      },
      "execution_count": 4,
      "outputs": [
        {
          "output_type": "stream",
          "name": "stdout",
          "text": [
            "+------+----+----------+------+\n",
            "|  Name| age|Experience|Salary|\n",
            "+------+----+----------+------+\n",
            "|  John|  30|         8| 30000|\n",
            "|   Sam|  25|         4| 25000|\n",
            "|  Sara|  29|         2| 20000|\n",
            "| Wayne|  35|        12| 35000|\n",
            "|  Tony|  36|        15| 39000|\n",
            "| Emily|  21|         1| 18000|\n",
            "|Mahesh|NULL|      NULL| 40000|\n",
            "|  NULL|  34|        10| 40000|\n",
            "|  NULL|  36|      NULL|  NULL|\n",
            "+------+----+----------+------+\n",
            "\n"
          ]
        }
      ]
    },
    {
      "cell_type": "code",
      "source": [
        "df_pyspark.na.drop().show()   # parameters inside the drop features"
      ],
      "metadata": {
        "colab": {
          "base_uri": "https://localhost:8080/"
        },
        "id": "spyGsciMSlQQ",
        "outputId": "47819758-f5b5-4caa-d942-3db248987ed9"
      },
      "execution_count": 5,
      "outputs": [
        {
          "output_type": "stream",
          "name": "stdout",
          "text": [
            "+-----+---+----------+------+\n",
            "| Name|age|Experience|Salary|\n",
            "+-----+---+----------+------+\n",
            "| John| 30|         8| 30000|\n",
            "|  Sam| 25|         4| 25000|\n",
            "| Sara| 29|         2| 20000|\n",
            "|Wayne| 35|        12| 35000|\n",
            "| Tony| 36|        15| 39000|\n",
            "|Emily| 21|         1| 18000|\n",
            "+-----+---+----------+------+\n",
            "\n"
          ]
        }
      ]
    },
    {
      "cell_type": "code",
      "source": [
        "# any==how\n",
        "df_pyspark.na.drop(how='any').show()"
      ],
      "metadata": {
        "colab": {
          "base_uri": "https://localhost:8080/"
        },
        "id": "IBumkMyuS3JC",
        "outputId": "c6377494-29c0-4903-f88a-9e47e4b48945"
      },
      "execution_count": 7,
      "outputs": [
        {
          "output_type": "stream",
          "name": "stdout",
          "text": [
            "+-----+---+----------+------+\n",
            "| Name|age|Experience|Salary|\n",
            "+-----+---+----------+------+\n",
            "| John| 30|         8| 30000|\n",
            "|  Sam| 25|         4| 25000|\n",
            "| Sara| 29|         2| 20000|\n",
            "|Wayne| 35|        12| 35000|\n",
            "| Tony| 36|        15| 39000|\n",
            "|Emily| 21|         1| 18000|\n",
            "+-----+---+----------+------+\n",
            "\n"
          ]
        }
      ]
    },
    {
      "cell_type": "code",
      "source": [
        "# threshold\n",
        "df_pyspark.na.drop(how='any',thresh=2).show()"
      ],
      "metadata": {
        "colab": {
          "base_uri": "https://localhost:8080/"
        },
        "id": "0GGkQxLsTSaz",
        "outputId": "a7c13e83-f7b8-4d20-9ef6-d4c35d5e359d"
      },
      "execution_count": 9,
      "outputs": [
        {
          "output_type": "stream",
          "name": "stdout",
          "text": [
            "+------+----+----------+------+\n",
            "|  Name| age|Experience|Salary|\n",
            "+------+----+----------+------+\n",
            "|  John|  30|         8| 30000|\n",
            "|   Sam|  25|         4| 25000|\n",
            "|  Sara|  29|         2| 20000|\n",
            "| Wayne|  35|        12| 35000|\n",
            "|  Tony|  36|        15| 39000|\n",
            "| Emily|  21|         1| 18000|\n",
            "|Mahesh|NULL|      NULL| 40000|\n",
            "|  NULL|  34|        10| 40000|\n",
            "+------+----+----------+------+\n",
            "\n"
          ]
        }
      ]
    },
    {
      "cell_type": "code",
      "source": [
        "# Subset  (wherever there are nan values in record that certain columns nan will be removed)\n",
        "df_pyspark.na.drop(how='any',subset=['Age']).show()"
      ],
      "metadata": {
        "colab": {
          "base_uri": "https://localhost:8080/"
        },
        "id": "CEvCoNmQTSj4",
        "outputId": "8616e1b6-d28d-481c-aa23-7c7878cb1b51"
      },
      "execution_count": 11,
      "outputs": [
        {
          "output_type": "stream",
          "name": "stdout",
          "text": [
            "+-----+---+----------+------+\n",
            "| Name|age|Experience|Salary|\n",
            "+-----+---+----------+------+\n",
            "| John| 30|         8| 30000|\n",
            "|  Sam| 25|         4| 25000|\n",
            "| Sara| 29|         2| 20000|\n",
            "|Wayne| 35|        12| 35000|\n",
            "| Tony| 36|        15| 39000|\n",
            "|Emily| 21|         1| 18000|\n",
            "| NULL| 34|        10| 40000|\n",
            "| NULL| 36|      NULL|  NULL|\n",
            "+-----+---+----------+------+\n",
            "\n"
          ]
        }
      ]
    },
    {
      "cell_type": "code",
      "source": [
        "# Filling the missing values\n",
        "df_pyspark.na.fill('Missing Values').show()"
      ],
      "metadata": {
        "colab": {
          "base_uri": "https://localhost:8080/"
        },
        "id": "7Hc0TOx5UyjL",
        "outputId": "6a031596-9cec-4148-82b5-afce76a57d69"
      },
      "execution_count": 12,
      "outputs": [
        {
          "output_type": "stream",
          "name": "stdout",
          "text": [
            "+--------------+----+----------+------+\n",
            "|          Name| age|Experience|Salary|\n",
            "+--------------+----+----------+------+\n",
            "|          John|  30|         8| 30000|\n",
            "|           Sam|  25|         4| 25000|\n",
            "|          Sara|  29|         2| 20000|\n",
            "|         Wayne|  35|        12| 35000|\n",
            "|          Tony|  36|        15| 39000|\n",
            "|         Emily|  21|         1| 18000|\n",
            "|        Mahesh|NULL|      NULL| 40000|\n",
            "|Missing Values|  34|        10| 40000|\n",
            "|Missing Values|  36|      NULL|  NULL|\n",
            "+--------------+----+----------+------+\n",
            "\n"
          ]
        }
      ]
    },
    {
      "cell_type": "code",
      "source": [
        "df_pyspark.na.fill('Missing Values','Name').show() #missing values in specific column"
      ],
      "metadata": {
        "colab": {
          "base_uri": "https://localhost:8080/"
        },
        "id": "zB97hKiqVUWg",
        "outputId": "f606e0e7-8d68-48d5-f066-7bd43503ca37"
      },
      "execution_count": 14,
      "outputs": [
        {
          "output_type": "stream",
          "name": "stdout",
          "text": [
            "+--------------+----+----------+------+\n",
            "|          Name| age|Experience|Salary|\n",
            "+--------------+----+----------+------+\n",
            "|          John|  30|         8| 30000|\n",
            "|           Sam|  25|         4| 25000|\n",
            "|          Sara|  29|         2| 20000|\n",
            "|         Wayne|  35|        12| 35000|\n",
            "|          Tony|  36|        15| 39000|\n",
            "|         Emily|  21|         1| 18000|\n",
            "|        Mahesh|NULL|      NULL| 40000|\n",
            "|Missing Values|  34|        10| 40000|\n",
            "|Missing Values|  36|      NULL|  NULL|\n",
            "+--------------+----+----------+------+\n",
            "\n"
          ]
        }
      ]
    },
    {
      "cell_type": "code",
      "source": [
        "df_pyspark.show()"
      ],
      "metadata": {
        "colab": {
          "base_uri": "https://localhost:8080/"
        },
        "id": "a4Xvs96wVbIv",
        "outputId": "e7b8def2-7593-429e-b7c4-18a3ceac3c0a"
      },
      "execution_count": 20,
      "outputs": [
        {
          "output_type": "stream",
          "name": "stdout",
          "text": [
            "+------+----+----------+------+\n",
            "|  Name| age|Experience|Salary|\n",
            "+------+----+----------+------+\n",
            "|  John|  30|         8| 30000|\n",
            "|   Sam|  25|         4| 25000|\n",
            "|  Sara|  29|         2| 20000|\n",
            "| Wayne|  35|        12| 35000|\n",
            "|  Tony|  36|        15| 39000|\n",
            "| Emily|  21|         1| 18000|\n",
            "|Mahesh|NULL|      NULL| 40000|\n",
            "|  NULL|  34|        10| 40000|\n",
            "|  NULL|  36|      NULL|  NULL|\n",
            "+------+----+----------+------+\n",
            "\n"
          ]
        }
      ]
    },
    {
      "cell_type": "code",
      "source": [
        "from pyspark.ml.feature import Imputer\n",
        "\n",
        "imputer = Imputer(\n",
        "    inputCols=['age','Experience','Salary'],\n",
        "    outputCols=[\"{}_imputed\".format(c) for c in ['age','Experience','Salary']]\n",
        ").setStrategy(\"mean\")   # change by mean or median"
      ],
      "metadata": {
        "id": "LvAEI5jnWsgZ"
      },
      "execution_count": 26,
      "outputs": []
    },
    {
      "cell_type": "code",
      "source": [
        "# Add imputatio cols to df\n",
        "imputer.fit(df_pyspark).transform(df_pyspark).show()"
      ],
      "metadata": {
        "colab": {
          "base_uri": "https://localhost:8080/"
        },
        "id": "-RDqQ1tNWvv8",
        "outputId": "540cf645-3998-4acb-f96d-26154546f394"
      },
      "execution_count": 27,
      "outputs": [
        {
          "output_type": "stream",
          "name": "stdout",
          "text": [
            "+------+----+----------+------+-----------+------------------+--------------+\n",
            "|  Name| age|Experience|Salary|age_imputed|Experience_imputed|Salary_imputed|\n",
            "+------+----+----------+------+-----------+------------------+--------------+\n",
            "|  John|  30|         8| 30000|         30|                 8|         30000|\n",
            "|   Sam|  25|         4| 25000|         25|                 4|         25000|\n",
            "|  Sara|  29|         2| 20000|         29|                 2|         20000|\n",
            "| Wayne|  35|        12| 35000|         35|                12|         35000|\n",
            "|  Tony|  36|        15| 39000|         36|                15|         39000|\n",
            "| Emily|  21|         1| 18000|         21|                 1|         18000|\n",
            "|Mahesh|NULL|      NULL| 40000|         30|                 7|         40000|\n",
            "|  NULL|  34|        10| 40000|         34|                10|         40000|\n",
            "|  NULL|  36|      NULL|  NULL|         36|                 7|         30875|\n",
            "+------+----+----------+------+-----------+------------------+--------------+\n",
            "\n"
          ]
        }
      ]
    },
    {
      "cell_type": "code",
      "source": [
        "df_pyspark = imputer.fit(df_pyspark).transform(df_pyspark)"
      ],
      "metadata": {
        "id": "MedNDPj0YPNV"
      },
      "execution_count": 29,
      "outputs": []
    },
    {
      "cell_type": "code",
      "source": [
        "df_pyspark.show()"
      ],
      "metadata": {
        "colab": {
          "base_uri": "https://localhost:8080/"
        },
        "id": "aGuXFs0jYmf-",
        "outputId": "4f005da1-8240-4366-d53c-62ece96fffce"
      },
      "execution_count": 31,
      "outputs": [
        {
          "output_type": "stream",
          "name": "stdout",
          "text": [
            "+------+----+----------+------+-----------+------------------+--------------+\n",
            "|  Name| age|Experience|Salary|age_imputed|Experience_imputed|Salary_imputed|\n",
            "+------+----+----------+------+-----------+------------------+--------------+\n",
            "|  John|  30|         8| 30000|         30|                 8|         30000|\n",
            "|   Sam|  25|         4| 25000|         25|                 4|         25000|\n",
            "|  Sara|  29|         2| 20000|         29|                 2|         20000|\n",
            "| Wayne|  35|        12| 35000|         35|                12|         35000|\n",
            "|  Tony|  36|        15| 39000|         36|                15|         39000|\n",
            "| Emily|  21|         1| 18000|         21|                 1|         18000|\n",
            "|Mahesh|NULL|      NULL| 40000|         30|                 7|         40000|\n",
            "|  NULL|  34|        10| 40000|         34|                10|         40000|\n",
            "|  NULL|  36|      NULL|  NULL|         36|                 7|         30875|\n",
            "+------+----+----------+------+-----------+------------------+--------------+\n",
            "\n"
          ]
        }
      ]
    },
    {
      "cell_type": "code",
      "source": [],
      "metadata": {
        "id": "8BZkytA9ZBZA"
      },
      "execution_count": null,
      "outputs": []
    },
    {
      "cell_type": "markdown",
      "source": [
        "## Filter operation"
      ],
      "metadata": {
        "id": "byYOZhm_ZZbi"
      }
    },
    {
      "cell_type": "code",
      "source": [
        "af_pyspark = spark.read.csv('Salary1.csv',header=True,inferSchema=True)"
      ],
      "metadata": {
        "id": "kEVi8Nb1ZcwD"
      },
      "execution_count": 34,
      "outputs": []
    },
    {
      "cell_type": "code",
      "source": [
        "af_pyspark.show()"
      ],
      "metadata": {
        "colab": {
          "base_uri": "https://localhost:8080/"
        },
        "id": "Iyfuz6EHaGN7",
        "outputId": "34333d3a-6c91-41a7-d787-c8da2bb7dc95"
      },
      "execution_count": 36,
      "outputs": [
        {
          "output_type": "stream",
          "name": "stdout",
          "text": [
            "+-----+---+----------+------+\n",
            "| Name|age|Experience|Salary|\n",
            "+-----+---+----------+------+\n",
            "| John| 30|         8| 30000|\n",
            "|  Sam| 25|         4| 25000|\n",
            "| Sara| 29|         2| 20000|\n",
            "|Wayne| 35|        12| 35000|\n",
            "| Tony| 36|        15| 39000|\n",
            "|Emily| 21|         1| 18000|\n",
            "+-----+---+----------+------+\n",
            "\n"
          ]
        }
      ]
    },
    {
      "cell_type": "code",
      "source": [
        "# Salary of people less than or equal to 20000\n",
        "af_pyspark.filter('Salary<=25000').show()"
      ],
      "metadata": {
        "colab": {
          "base_uri": "https://localhost:8080/"
        },
        "id": "7-D6AjoAaI-S",
        "outputId": "9be27b52-b762-451a-df36-a2e838a128f4"
      },
      "execution_count": 39,
      "outputs": [
        {
          "output_type": "stream",
          "name": "stdout",
          "text": [
            "+-----+---+----------+------+\n",
            "| Name|age|Experience|Salary|\n",
            "+-----+---+----------+------+\n",
            "|  Sam| 25|         4| 25000|\n",
            "| Sara| 29|         2| 20000|\n",
            "|Emily| 21|         1| 18000|\n",
            "+-----+---+----------+------+\n",
            "\n"
          ]
        }
      ]
    },
    {
      "cell_type": "code",
      "source": [
        "af_pyspark.filter('Salary<=25000').select(['Name','age']).show()"
      ],
      "metadata": {
        "colab": {
          "base_uri": "https://localhost:8080/"
        },
        "id": "GbcBpvK4aQt2",
        "outputId": "6efd5d36-188f-4da4-8fe4-e3c60f7ed0d4"
      },
      "execution_count": 40,
      "outputs": [
        {
          "output_type": "stream",
          "name": "stdout",
          "text": [
            "+-----+---+\n",
            "| Name|age|\n",
            "+-----+---+\n",
            "|  Sam| 25|\n",
            "| Sara| 29|\n",
            "|Emily| 21|\n",
            "+-----+---+\n",
            "\n"
          ]
        }
      ]
    },
    {
      "cell_type": "code",
      "source": [
        "af_pyspark.filter(af_pyspark['Salary']<=25000).show() # conditional Statements"
      ],
      "metadata": {
        "colab": {
          "base_uri": "https://localhost:8080/"
        },
        "id": "TEyRk9zJaQwx",
        "outputId": "843057b7-1d4a-4c7d-8f16-37acb3435f1d"
      },
      "execution_count": 41,
      "outputs": [
        {
          "output_type": "stream",
          "name": "stdout",
          "text": [
            "+-----+---+----------+------+\n",
            "| Name|age|Experience|Salary|\n",
            "+-----+---+----------+------+\n",
            "|  Sam| 25|         4| 25000|\n",
            "| Sara| 29|         2| 20000|\n",
            "|Emily| 21|         1| 18000|\n",
            "+-----+---+----------+------+\n",
            "\n"
          ]
        }
      ]
    },
    {
      "cell_type": "code",
      "source": [
        "af_pyspark.filter((af_pyspark['Salary']<=20000) &\n",
        "                 (af_pyspark['Salary']>=15000)).show()  # Mulpiple conditional statements"
      ],
      "metadata": {
        "colab": {
          "base_uri": "https://localhost:8080/"
        },
        "id": "ZfW8TeXSaQ0d",
        "outputId": "0ec109ae-85af-4446-953c-7561ba1f2bcb"
      },
      "execution_count": 44,
      "outputs": [
        {
          "output_type": "stream",
          "name": "stdout",
          "text": [
            "+-----+---+----------+------+\n",
            "| Name|age|Experience|Salary|\n",
            "+-----+---+----------+------+\n",
            "| Sara| 29|         2| 20000|\n",
            "|Emily| 21|         1| 18000|\n",
            "+-----+---+----------+------+\n",
            "\n"
          ]
        }
      ]
    },
    {
      "cell_type": "code",
      "source": [
        "# inverse condition operation (~)\n",
        "af_pyspark.filter(~(af_pyspark['Salary']<=25000)).show()"
      ],
      "metadata": {
        "colab": {
          "base_uri": "https://localhost:8080/"
        },
        "id": "4oKDI7RBcEpL",
        "outputId": "228a6dd5-23e5-4f0f-f0d9-fc44a93e41df"
      },
      "execution_count": 45,
      "outputs": [
        {
          "output_type": "stream",
          "name": "stdout",
          "text": [
            "+-----+---+----------+------+\n",
            "| Name|age|Experience|Salary|\n",
            "+-----+---+----------+------+\n",
            "| John| 30|         8| 30000|\n",
            "|Wayne| 35|        12| 35000|\n",
            "| Tony| 36|        15| 39000|\n",
            "+-----+---+----------+------+\n",
            "\n"
          ]
        }
      ]
    }
  ]
}