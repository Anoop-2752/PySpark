{
  "nbformat": 4,
  "nbformat_minor": 0,
  "metadata": {
    "colab": {
      "provenance": [],
      "authorship_tag": "ABX9TyNtDjCmdvSp5bCeMFk6RCyU",
      "include_colab_link": true
    },
    "kernelspec": {
      "name": "python3",
      "display_name": "Python 3"
    },
    "language_info": {
      "name": "python"
    }
  },
  "cells": [
    {
      "cell_type": "markdown",
      "metadata": {
        "id": "view-in-github",
        "colab_type": "text"
      },
      "source": [
        "<a href=\"https://colab.research.google.com/github/Anoop-2752/PySpark/blob/main/PySpark-3.ipynb\" target=\"_parent\"><img src=\"https://colab.research.google.com/assets/colab-badge.svg\" alt=\"Open In Colab\"/></a>"
      ]
    },
    {
      "cell_type": "markdown",
      "source": [
        "- GroupBy and Aggregate function"
      ],
      "metadata": {
        "id": "DBqYdmM5G6Ox"
      }
    },
    {
      "cell_type": "code",
      "execution_count": 1,
      "metadata": {
        "id": "QmuC5hwjCVIA"
      },
      "outputs": [],
      "source": [
        "from pyspark.sql import SparkSession"
      ]
    },
    {
      "cell_type": "code",
      "source": [
        "spark = SparkSession.builder.appName('Agg').getOrCreate()"
      ],
      "metadata": {
        "id": "S3RUi143DYPP"
      },
      "execution_count": 2,
      "outputs": []
    },
    {
      "cell_type": "code",
      "source": [
        "spark"
      ],
      "metadata": {
        "colab": {
          "base_uri": "https://localhost:8080/",
          "height": 219
        },
        "id": "ZMmYhbFPDiOz",
        "outputId": "808ae8d2-6d08-4740-b8d3-1cb628d792f3"
      },
      "execution_count": 3,
      "outputs": [
        {
          "output_type": "execute_result",
          "data": {
            "text/plain": [
              "<pyspark.sql.session.SparkSession at 0x7b7b268fef80>"
            ],
            "text/html": [
              "\n",
              "            <div>\n",
              "                <p><b>SparkSession - in-memory</b></p>\n",
              "                \n",
              "        <div>\n",
              "            <p><b>SparkContext</b></p>\n",
              "\n",
              "            <p><a href=\"http://b4dcf94b2392:4040\">Spark UI</a></p>\n",
              "\n",
              "            <dl>\n",
              "              <dt>Version</dt>\n",
              "                <dd><code>v3.5.3</code></dd>\n",
              "              <dt>Master</dt>\n",
              "                <dd><code>local[*]</code></dd>\n",
              "              <dt>AppName</dt>\n",
              "                <dd><code>Agg</code></dd>\n",
              "            </dl>\n",
              "        </div>\n",
              "        \n",
              "            </div>\n",
              "        "
            ]
          },
          "metadata": {},
          "execution_count": 3
        }
      ]
    },
    {
      "cell_type": "code",
      "source": [
        "df_pyspark = spark.read.csv('Salary1.csv',header=True,inferSchema=True)"
      ],
      "metadata": {
        "id": "Tq7JBHjYDmSQ"
      },
      "execution_count": 4,
      "outputs": []
    },
    {
      "cell_type": "code",
      "source": [
        "df_pyspark.show()"
      ],
      "metadata": {
        "colab": {
          "base_uri": "https://localhost:8080/"
        },
        "id": "2_hgE09fD7EF",
        "outputId": "715c5cfe-c875-41de-de1a-9c2850a6dc15"
      },
      "execution_count": 5,
      "outputs": [
        {
          "output_type": "stream",
          "name": "stdout",
          "text": [
            "+-------+--------------+------+\n",
            "|   Name|    Department|Salary|\n",
            "+-------+--------------+------+\n",
            "|   John|  Data science| 30000|\n",
            "|    Sam|           IOT| 25000|\n",
            "|   Sara|      Big data| 20000|\n",
            "|  Wayne|Data analytics| 35000|\n",
            "|   Tony|      Big data| 39000|\n",
            "|  Emily|  Data science| 18000|\n",
            "|  Rithu|           IOT| 20000|\n",
            "|Samerra|      Big data| 25000|\n",
            "|Deepika|  Data science| 28000|\n",
            "+-------+--------------+------+\n",
            "\n"
          ]
        }
      ]
    },
    {
      "cell_type": "code",
      "source": [
        "df_pyspark.printSchema()"
      ],
      "metadata": {
        "colab": {
          "base_uri": "https://localhost:8080/"
        },
        "id": "jLvfDS_wD-Rn",
        "outputId": "ebe52d38-e55f-4f3d-c11c-d2c47aad821b"
      },
      "execution_count": 7,
      "outputs": [
        {
          "output_type": "stream",
          "name": "stdout",
          "text": [
            "root\n",
            " |-- Name: string (nullable = true)\n",
            " |-- Department: string (nullable = true)\n",
            " |-- Salary: integer (nullable = true)\n",
            "\n"
          ]
        }
      ]
    },
    {
      "cell_type": "code",
      "source": [
        "# Groupby\n",
        "# Group to find max salary\n",
        "df_pyspark.groupBy('Name').sum().show()"
      ],
      "metadata": {
        "colab": {
          "base_uri": "https://localhost:8080/"
        },
        "id": "kMuvOEWNEF65",
        "outputId": "59182be6-b5b7-46fc-bcbb-1dcdcaf8f61b"
      },
      "execution_count": 9,
      "outputs": [
        {
          "output_type": "stream",
          "name": "stdout",
          "text": [
            "+-------+-----------+\n",
            "|   Name|sum(Salary)|\n",
            "+-------+-----------+\n",
            "|  Wayne|      35000|\n",
            "|   John|      30000|\n",
            "|    Sam|      25000|\n",
            "|  Emily|      18000|\n",
            "|   Tony|      39000|\n",
            "|Deepika|      28000|\n",
            "|  Rithu|      20000|\n",
            "|   Sara|      20000|\n",
            "|Samerra|      25000|\n",
            "+-------+-----------+\n",
            "\n"
          ]
        }
      ]
    },
    {
      "cell_type": "code",
      "source": [
        "# Group to find department of maximum salary\n",
        "\n",
        "df_pyspark.groupBy('Department').sum().show()"
      ],
      "metadata": {
        "colab": {
          "base_uri": "https://localhost:8080/"
        },
        "id": "UbpollJ8EZy6",
        "outputId": "f1cdb788-aa2b-40da-dc53-7235a664024f"
      },
      "execution_count": 14,
      "outputs": [
        {
          "output_type": "stream",
          "name": "stdout",
          "text": [
            "+--------------+-----------+\n",
            "|    Department|sum(Salary)|\n",
            "+--------------+-----------+\n",
            "|Data analytics|      35000|\n",
            "|           IOT|      45000|\n",
            "|  Data science|      76000|\n",
            "|      Big data|      84000|\n",
            "+--------------+-----------+\n",
            "\n"
          ]
        }
      ]
    },
    {
      "cell_type": "code",
      "source": [
        "df_pyspark.groupBy('Department').mean().show()"
      ],
      "metadata": {
        "colab": {
          "base_uri": "https://localhost:8080/"
        },
        "id": "QB30uckaFyYI",
        "outputId": "a0e60128-4ec1-42a5-a591-0c7fcabe17cb"
      },
      "execution_count": 11,
      "outputs": [
        {
          "output_type": "stream",
          "name": "stdout",
          "text": [
            "+--------------+------------------+\n",
            "|    Department|       avg(Salary)|\n",
            "+--------------+------------------+\n",
            "|Data analytics|           35000.0|\n",
            "|           IOT|           22500.0|\n",
            "|  Data science|25333.333333333332|\n",
            "|      Big data|           28000.0|\n",
            "+--------------+------------------+\n",
            "\n"
          ]
        }
      ]
    },
    {
      "cell_type": "code",
      "source": [
        "df_pyspark.groupBy('Department').count().show()"
      ],
      "metadata": {
        "colab": {
          "base_uri": "https://localhost:8080/"
        },
        "id": "VX1WhxlOF_MT",
        "outputId": "24736b84-d93b-40d0-86ee-2792c6126e5c"
      },
      "execution_count": 12,
      "outputs": [
        {
          "output_type": "stream",
          "name": "stdout",
          "text": [
            "+--------------+-----+\n",
            "|    Department|count|\n",
            "+--------------+-----+\n",
            "|Data analytics|    1|\n",
            "|           IOT|    2|\n",
            "|  Data science|    3|\n",
            "|      Big data|    3|\n",
            "+--------------+-----+\n",
            "\n"
          ]
        }
      ]
    },
    {
      "cell_type": "code",
      "source": [
        "df_pyspark.agg({'Salary':'sum'}).show()"
      ],
      "metadata": {
        "colab": {
          "base_uri": "https://localhost:8080/"
        },
        "id": "usNSRjYRGF98",
        "outputId": "a9850719-6eee-4ef5-e07c-37bad29bec63"
      },
      "execution_count": 15,
      "outputs": [
        {
          "output_type": "stream",
          "name": "stdout",
          "text": [
            "+-----------+\n",
            "|sum(Salary)|\n",
            "+-----------+\n",
            "|     240000|\n",
            "+-----------+\n",
            "\n"
          ]
        }
      ]
    },
    {
      "cell_type": "code",
      "source": [],
      "metadata": {
        "id": "Fi9QzF3FGsHp"
      },
      "execution_count": null,
      "outputs": []
    }
  ]
}
